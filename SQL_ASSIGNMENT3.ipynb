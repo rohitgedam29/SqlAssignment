{
 "cells": [
  {
   "cell_type": "code",
   "execution_count": 3,
   "id": "8599d664",
   "metadata": {},
   "outputs": [
    {
     "name": "stdout",
     "output_type": "stream",
     "text": [
      "Requirement already satisfied: mysql-connector-python in c:\\ana\\lib\\site-packages (8.0.29)\n",
      "Requirement already satisfied: protobuf>=3.0.0 in c:\\ana\\lib\\site-packages (from mysql-connector-python) (4.21.2)\n"
     ]
    }
   ],
   "source": [
    "!pip install mysql-connector-python"
   ]
  },
  {
   "cell_type": "code",
   "execution_count": 4,
   "id": "7d8b049c",
   "metadata": {},
   "outputs": [],
   "source": [
    "import mysql.connector as conn"
   ]
  },
  {
   "cell_type": "code",
   "execution_count": 5,
   "id": "083c20a3",
   "metadata": {},
   "outputs": [],
   "source": [
    "db = conn.connect(host=\"localhost\", user = \"root\",passwd=\"Joeroot12345\")"
   ]
  },
  {
   "cell_type": "code",
   "execution_count": 6,
   "id": "67c307cd",
   "metadata": {},
   "outputs": [],
   "source": [
    "cursor= db.cursor()"
   ]
  },
  {
   "cell_type": "code",
   "execution_count": 7,
   "id": "f9a42a17",
   "metadata": {},
   "outputs": [
    {
     "data": {
      "text/plain": [
       "[(1, 'MS', 'Dhoni', 500000, 'HR'),\n",
       " (2, 'Virat', 'Kohli', 450000, 'HR'),\n",
       " (3, 'Rohit', 'Sharma', 400000, 'HR'),\n",
       " (4, 'KL', 'Rahul', 400000, 'Accounts'),\n",
       " (5, 'Hardik', 'Pandya', 350000, 'Accounts'),\n",
       " (6, 'Amitabh', 'singh', 300000, 'Development')]"
      ]
     },
     "execution_count": 7,
     "metadata": {},
     "output_type": "execute_result"
    }
   ],
   "source": [
    "cursor.execute(\"select * from assignment_2.worker_table\")\n",
    "cursor.fetchall()"
   ]
  },
  {
   "cell_type": "markdown",
   "id": "bdf38b33",
   "metadata": {},
   "source": [
    "# Q-1. Write an SQL query to print the FIRST_NAME from Worker table after removing white spaces from the right side."
   ]
  },
  {
   "cell_type": "code",
   "execution_count": 8,
   "id": "7e342418",
   "metadata": {},
   "outputs": [
    {
     "data": {
      "text/plain": [
       "[('MS',), ('Virat',), ('Rohit',), ('KL',), ('Hardik',), ('Amitabh',)]"
      ]
     },
     "execution_count": 8,
     "metadata": {},
     "output_type": "execute_result"
    }
   ],
   "source": [
    "cursor.execute(\"select RTRIM(first_name) from assignment_2.worker_table\")\n",
    "cursor.fetchall()"
   ]
  },
  {
   "cell_type": "markdown",
   "id": "f1ea6551",
   "metadata": {},
   "source": [
    "# Q-2. Write an SQL query that fetches the unique values of DEPARTMENT from Worker table and prints its length."
   ]
  },
  {
   "cell_type": "code",
   "execution_count": 13,
   "id": "f60b01a1",
   "metadata": {},
   "outputs": [
    {
     "data": {
      "text/plain": [
       "[(2, 'HR'), (8, 'Accounts'), (11, 'Development')]"
      ]
     },
     "execution_count": 13,
     "metadata": {},
     "output_type": "execute_result"
    }
   ],
   "source": [
    "cursor.execute(\"select distinct length(Department),Department from assignment_2.worker_table\")\n",
    "cursor.fetchall()"
   ]
  },
  {
   "cell_type": "markdown",
   "id": "f01c5a69",
   "metadata": {},
   "source": [
    "# Q-3. Write an SQL query to fetch nth max salaries from a table."
   ]
  },
  {
   "cell_type": "code",
   "execution_count": 23,
   "id": "16d075bc",
   "metadata": {},
   "outputs": [],
   "source": [
    "cursor.execute(\"select salary from assignment_2.worker_table order by salary DESC limit 6\")"
   ]
  },
  {
   "cell_type": "code",
   "execution_count": 24,
   "id": "26bf9f92",
   "metadata": {},
   "outputs": [
    {
     "data": {
      "text/plain": [
       "[(500000,), (450000,), (400000,), (400000,), (350000,), (300000,)]"
      ]
     },
     "execution_count": 24,
     "metadata": {},
     "output_type": "execute_result"
    }
   ],
   "source": [
    "cursor.fetchall()\n"
   ]
  },
  {
   "cell_type": "code",
   "execution_count": null,
   "id": "d08839f2",
   "metadata": {},
   "outputs": [],
   "source": []
  },
  {
   "cell_type": "code",
   "execution_count": null,
   "id": "36755da7",
   "metadata": {},
   "outputs": [],
   "source": []
  }
 ],
 "metadata": {
  "kernelspec": {
   "display_name": "Python 3 (ipykernel)",
   "language": "python",
   "name": "python3"
  },
  "language_info": {
   "codemirror_mode": {
    "name": "ipython",
    "version": 3
   },
   "file_extension": ".py",
   "mimetype": "text/x-python",
   "name": "python",
   "nbconvert_exporter": "python",
   "pygments_lexer": "ipython3",
   "version": "3.9.7"
  }
 },
 "nbformat": 4,
 "nbformat_minor": 5
}
