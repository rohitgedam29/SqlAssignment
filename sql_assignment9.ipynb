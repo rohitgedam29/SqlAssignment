{
 "cells": [
  {
   "cell_type": "code",
   "execution_count": 1,
   "id": "757b3ff1",
   "metadata": {},
   "outputs": [
    {
     "name": "stdout",
     "output_type": "stream",
     "text": [
      "Requirement already satisfied: mysql-connector-python in c:\\ana\\lib\\site-packages (8.0.29)\n",
      "Requirement already satisfied: protobuf>=3.0.0 in c:\\ana\\lib\\site-packages (from mysql-connector-python) (4.21.2)\n"
     ]
    }
   ],
   "source": [
    "!pip install mysql-connector-python"
   ]
  },
  {
   "cell_type": "code",
   "execution_count": 1,
   "id": "e92dcf66",
   "metadata": {},
   "outputs": [],
   "source": [
    "import mysql.connector as conn"
   ]
  },
  {
   "cell_type": "code",
   "execution_count": 2,
   "id": "3373d0ca",
   "metadata": {},
   "outputs": [],
   "source": [
    "db = conn.connect(host=\"localhost\",user=\"root\",passwd=\"Joeroot12345\",database=\"assignment_2\")"
   ]
  },
  {
   "cell_type": "code",
   "execution_count": 3,
   "id": "c72ac7d9",
   "metadata": {},
   "outputs": [],
   "source": [
    "cursor=db.cursor()"
   ]
  },
  {
   "cell_type": "code",
   "execution_count": 4,
   "id": "ed3b3ed5",
   "metadata": {},
   "outputs": [
    {
     "data": {
      "text/plain": [
       "[(1, 'MS', 'Dhoni', 500000, 'HR'),\n",
       " (2, 'Virat', 'Kohli', 450000, 'HR'),\n",
       " (3, 'Rohit', 'Sharma', 400000, 'HR'),\n",
       " (4, 'KL', 'Rahul', 400000, 'Accounts'),\n",
       " (5, 'Hardik', 'Pandya', 350000, 'Accounts'),\n",
       " (6, 'Amitabh', 'singh', 300000, 'Development'),\n",
       " (7, 'vipul', 'sharma', 250000, 'testing'),\n",
       " (8, 'satish', 'kapoor', 200000, 'team_lead'),\n",
       " (7, 'vipul', 'sharma', 250000, 'testing'),\n",
       " (8, 'satish', 'kapoor', 200000, 'team_lead'),\n",
       " (9, 'Abhishek', 'singh', 150000, 'coding'),\n",
       " (10, 'Ankita', 'verma', 100000, 'coding'),\n",
       " (11, 'pankhuri', 'singh', 150000, 'developer')]"
      ]
     },
     "execution_count": 4,
     "metadata": {},
     "output_type": "execute_result"
    }
   ],
   "source": [
    "cursor.execute(\"select * from worker_table\")\n",
    "cursor.fetchall()\n"
   ]
  },
  {
   "cell_type": "markdown",
   "id": "28122500",
   "metadata": {},
   "source": [
    "# Q-1. Write an SQL query to show the top n (say 10) records of a table."
   ]
  },
  {
   "cell_type": "code",
   "execution_count": 9,
   "id": "c0ccfbd0",
   "metadata": {},
   "outputs": [
    {
     "data": {
      "text/plain": [
       "[(1, 'MS', 'Dhoni', 500000, 'HR'),\n",
       " (2, 'Virat', 'Kohli', 450000, 'HR'),\n",
       " (3, 'Rohit', 'Sharma', 400000, 'HR'),\n",
       " (4, 'KL', 'Rahul', 400000, 'Accounts'),\n",
       " (5, 'Hardik', 'Pandya', 350000, 'Accounts'),\n",
       " (6, 'Amitabh', 'singh', 300000, 'Development'),\n",
       " (7, 'vipul', 'sharma', 250000, 'testing'),\n",
       " (8, 'satish', 'kapoor', 200000, 'team_lead'),\n",
       " (7, 'vipul', 'sharma', 250000, 'testing'),\n",
       " (8, 'satish', 'kapoor', 200000, 'team_lead')]"
      ]
     },
     "execution_count": 9,
     "metadata": {},
     "output_type": "execute_result"
    }
   ],
   "source": [
    "cursor.execute(\"select * from worker_table limit 10\")\n",
    "cursor.fetchall()"
   ]
  },
  {
   "cell_type": "markdown",
   "id": "200c834c",
   "metadata": {},
   "source": [
    "# Q-2. Write an SQL query to determine the nth (say n=5) highest salary from a table.\n",
    "\n",
    "\n"
   ]
  },
  {
   "cell_type": "code",
   "execution_count": 9,
   "id": "33291f2b",
   "metadata": {},
   "outputs": [],
   "source": [
    "cursor.execute(\"SELECT DISTINCT(Salary),first_name,last_name FROM Worker_table ORDER BY salary DESC LIMIT 1 OFFSET 5\")\n"
   ]
  },
  {
   "cell_type": "code",
   "execution_count": 10,
   "id": "88ba2aa7",
   "metadata": {},
   "outputs": [
    {
     "data": {
      "text/plain": [
       "[(300000, 'Amitabh', 'singh')]"
      ]
     },
     "execution_count": 10,
     "metadata": {},
     "output_type": "execute_result"
    }
   ],
   "source": [
    "cursor.fetchall()"
   ]
  },
  {
   "cell_type": "code",
   "execution_count": null,
   "id": "04a9307d",
   "metadata": {},
   "outputs": [],
   "source": []
  },
  {
   "cell_type": "code",
   "execution_count": null,
   "id": "38dab269",
   "metadata": {},
   "outputs": [],
   "source": []
  },
  {
   "cell_type": "code",
   "execution_count": null,
   "id": "770a2034",
   "metadata": {},
   "outputs": [],
   "source": []
  },
  {
   "cell_type": "code",
   "execution_count": null,
   "id": "1446842e",
   "metadata": {},
   "outputs": [],
   "source": []
  }
 ],
 "metadata": {
  "kernelspec": {
   "display_name": "Python 3 (ipykernel)",
   "language": "python",
   "name": "python3"
  },
  "language_info": {
   "codemirror_mode": {
    "name": "ipython",
    "version": 3
   },
   "file_extension": ".py",
   "mimetype": "text/x-python",
   "name": "python",
   "nbconvert_exporter": "python",
   "pygments_lexer": "ipython3",
   "version": "3.9.7"
  }
 },
 "nbformat": 4,
 "nbformat_minor": 5
}
