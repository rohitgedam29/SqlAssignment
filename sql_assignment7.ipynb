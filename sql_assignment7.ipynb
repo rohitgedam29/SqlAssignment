{
 "cells": [
  {
   "cell_type": "markdown",
   "id": "9f3d8353",
   "metadata": {},
   "source": [
    "# Q-1. Write an SQL query to show only odd rows from a table."
   ]
  },
  {
   "cell_type": "code",
   "execution_count": 2,
   "id": "40670a2f",
   "metadata": {},
   "outputs": [
    {
     "name": "stdout",
     "output_type": "stream",
     "text": [
      "Requirement already satisfied: mysql-connector-python in c:\\ana\\lib\\site-packages (8.0.29)\n",
      "Requirement already satisfied: protobuf>=3.0.0 in c:\\ana\\lib\\site-packages (from mysql-connector-python) (4.21.2)\n"
     ]
    }
   ],
   "source": [
    "!pip install mysql-connector-python"
   ]
  },
  {
   "cell_type": "code",
   "execution_count": 1,
   "id": "995cde31",
   "metadata": {},
   "outputs": [],
   "source": [
    "import mysql.connector as conn"
   ]
  },
  {
   "cell_type": "code",
   "execution_count": 2,
   "id": "05c8f351",
   "metadata": {},
   "outputs": [],
   "source": [
    "db = conn.connect(host=\"localhost\",user=\"root\",passwd=\"Joeroot12345\",database=\"assignment_2\")"
   ]
  },
  {
   "cell_type": "code",
   "execution_count": 3,
   "id": "e1da520c",
   "metadata": {},
   "outputs": [],
   "source": [
    "cursor= db.cursor()"
   ]
  },
  {
   "cell_type": "code",
   "execution_count": 4,
   "id": "0783da23",
   "metadata": {},
   "outputs": [
    {
     "data": {
      "text/plain": [
       "[(1, 'MS', 'Dhoni', 500000, 'HR'),\n",
       " (2, 'Virat', 'Kohli', 450000, 'HR'),\n",
       " (3, 'Rohit', 'Sharma', 400000, 'HR'),\n",
       " (4, 'KL', 'Rahul', 400000, 'Accounts'),\n",
       " (5, 'Hardik', 'Pandya', 350000, 'Accounts'),\n",
       " (6, 'Amitabh', 'singh', 300000, 'Development'),\n",
       " (7, 'vipul', 'sharma', 250000, 'testing'),\n",
       " (8, 'satish', 'kapoor', 200000, 'team_lead'),\n",
       " (7, 'vipul', 'sharma', 250000, 'testing'),\n",
       " (8, 'satish', 'kapoor', 200000, 'team_lead')]"
      ]
     },
     "execution_count": 4,
     "metadata": {},
     "output_type": "execute_result"
    }
   ],
   "source": [
    "cursor.execute(\"select * from assignment_2.worker_table\")\n",
    "cursor.fetchall()"
   ]
  },
  {
   "cell_type": "code",
   "execution_count": 6,
   "id": "9a87ab2f",
   "metadata": {},
   "outputs": [],
   "source": [
    "cursor.execute(\"select * from worker_table where worker_id%2!=0\")\n"
   ]
  },
  {
   "cell_type": "code",
   "execution_count": 7,
   "id": "4497784b",
   "metadata": {},
   "outputs": [
    {
     "data": {
      "text/plain": [
       "[(1, 'MS', 'Dhoni', 500000, 'HR'),\n",
       " (3, 'Rohit', 'Sharma', 400000, 'HR'),\n",
       " (5, 'Hardik', 'Pandya', 350000, 'Accounts'),\n",
       " (7, 'vipul', 'sharma', 250000, 'testing'),\n",
       " (7, 'vipul', 'sharma', 250000, 'testing')]"
      ]
     },
     "execution_count": 7,
     "metadata": {},
     "output_type": "execute_result"
    }
   ],
   "source": [
    "cursor.fetchall()"
   ]
  },
  {
   "cell_type": "markdown",
   "id": "b770e54d",
   "metadata": {},
   "source": [
    "# Q-14. Write an SQL query to clone a new table from another table."
   ]
  },
  {
   "cell_type": "code",
   "execution_count": 12,
   "id": "11384e84",
   "metadata": {},
   "outputs": [],
   "source": [
    "cursor.execute(\"CREATE TABLE worker_clone SELECT * from  worker_table\")\n"
   ]
  },
  {
   "cell_type": "code",
   "execution_count": 13,
   "id": "b89b9ebf",
   "metadata": {},
   "outputs": [
    {
     "data": {
      "text/plain": [
       "[(1, 'MS', 'Dhoni', 500000, 'HR'),\n",
       " (2, 'Virat', 'Kohli', 450000, 'HR'),\n",
       " (3, 'Rohit', 'Sharma', 400000, 'HR'),\n",
       " (4, 'KL', 'Rahul', 400000, 'Accounts'),\n",
       " (5, 'Hardik', 'Pandya', 350000, 'Accounts'),\n",
       " (6, 'Amitabh', 'singh', 300000, 'Development'),\n",
       " (7, 'vipul', 'sharma', 250000, 'testing'),\n",
       " (8, 'satish', 'kapoor', 200000, 'team_lead'),\n",
       " (7, 'vipul', 'sharma', 250000, 'testing'),\n",
       " (8, 'satish', 'kapoor', 200000, 'team_lead')]"
      ]
     },
     "execution_count": 13,
     "metadata": {},
     "output_type": "execute_result"
    }
   ],
   "source": [
    "cursor.execute(\"select * from worker_clone\")\n",
    "cursor.fetchall()"
   ]
  },
  {
   "cell_type": "code",
   "execution_count": null,
   "id": "5bb1e896",
   "metadata": {},
   "outputs": [],
   "source": []
  }
 ],
 "metadata": {
  "kernelspec": {
   "display_name": "Python 3 (ipykernel)",
   "language": "python",
   "name": "python3"
  },
  "language_info": {
   "codemirror_mode": {
    "name": "ipython",
    "version": 3
   },
   "file_extension": ".py",
   "mimetype": "text/x-python",
   "name": "python",
   "nbconvert_exporter": "python",
   "pygments_lexer": "ipython3",
   "version": "3.9.7"
  }
 },
 "nbformat": 4,
 "nbformat_minor": 5
}
