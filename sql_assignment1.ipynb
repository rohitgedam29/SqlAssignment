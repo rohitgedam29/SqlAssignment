{
 "cells": [
  {
   "cell_type": "code",
   "execution_count": 1,
   "id": "b678c111",
   "metadata": {},
   "outputs": [
    {
     "name": "stdout",
     "output_type": "stream",
     "text": [
      "Requirement already satisfied: mysql-connector-python in c:\\ana\\lib\\site-packages (8.0.29)\n",
      "Requirement already satisfied: protobuf>=3.0.0 in c:\\ana\\lib\\site-packages (from mysql-connector-python) (4.21.2)\n"
     ]
    }
   ],
   "source": [
    "!pip install mysql-connector-python"
   ]
  },
  {
   "cell_type": "code",
   "execution_count": 2,
   "id": "7f177164",
   "metadata": {},
   "outputs": [],
   "source": [
    "import mysql.connector as conn"
   ]
  },
  {
   "cell_type": "code",
   "execution_count": 3,
   "id": "f629fbd4",
   "metadata": {},
   "outputs": [],
   "source": [
    "mydb = conn.connect(host='localhost',user='root',passwd='Joeroot12345')"
   ]
  },
  {
   "cell_type": "code",
   "execution_count": 4,
   "id": "1881312c",
   "metadata": {},
   "outputs": [
    {
     "data": {
      "text/plain": [
       "<mysql.connector.connection_cext.CMySQLConnection at 0x14b8d2e4670>"
      ]
     },
     "execution_count": 4,
     "metadata": {},
     "output_type": "execute_result"
    }
   ],
   "source": [
    "mydb"
   ]
  },
  {
   "cell_type": "code",
   "execution_count": 5,
   "id": "cda08868",
   "metadata": {},
   "outputs": [],
   "source": [
    "cursor = mydb.cursor()"
   ]
  },
  {
   "cell_type": "code",
   "execution_count": 6,
   "id": "f56e04bd",
   "metadata": {},
   "outputs": [],
   "source": [
    "cursor.execute('create database assignment')"
   ]
  },
  {
   "cell_type": "code",
   "execution_count": 7,
   "id": "c1774b21",
   "metadata": {},
   "outputs": [],
   "source": [
    "cursor.execute(\"create table assignment.worker_table(Worker_ID INT(10) , First_Name VARCHAR(20),Last_Name VARCHAR(10),Salary INT(10),Department VARCHAR(20))\")"
   ]
  },
  {
   "cell_type": "code",
   "execution_count": 18,
   "id": "efd4fd46",
   "metadata": {},
   "outputs": [],
   "source": [
    "cursor.execute(\"insert into assignment.worker_table values(001, 'Sachin','Tendulkar',300000,'HR')\")\n",
    "cursor.execute(\"insert into assignment.worker_table values(002, 'Rahul','Dravid ',250000,'Admin')\")\n",
    "cursor.execute(\"insert into assignment.worker_table values(003, 'Virat','Kohli',200000,'developer')\")\n",
    "cursor.execute(\"insert into assignment.worker_table values(004, 'Amitabh','Bacchan',150000,'admin')\")\n",
    "cursor.execute(\"insert into assignment.worker_table values(005, 'MS','Dhoni',100000,'team_lead')\")\n",
    "\n"
   ]
  },
  {
   "cell_type": "code",
   "execution_count": 39,
   "id": "974ebe48",
   "metadata": {},
   "outputs": [],
   "source": [
    "cursor.execute(\"select * from assignment.worker_table\")\n"
   ]
  },
  {
   "cell_type": "code",
   "execution_count": 40,
   "id": "a1ee9c50",
   "metadata": {},
   "outputs": [
    {
     "data": {
      "text/plain": [
       "[(1, 'Sachin', 'Tendulkar', 300000, 'HR'),\n",
       " (2, 'Rahul', 'Dravid ', 250000, 'Admin'),\n",
       " (3, 'Virat', 'Kohli', 200000, 'developer'),\n",
       " (4, 'Amitabh', 'Bacchan', 150000, 'admin'),\n",
       " (5, 'MS', 'Dhoni', 100000, 'team_lead'),\n",
       " (1, 'Sachin', 'Tendulkar', 300000, 'HR'),\n",
       " (2, 'Rahul', 'Dravid ', 250000, 'Admin'),\n",
       " (3, 'Virat', 'Kohli', 200000, 'developer'),\n",
       " (4, 'Amitabh', 'Bacchan', 150000, 'admin'),\n",
       " (5, 'MS', 'Dhoni', 100000, 'team_lead')]"
      ]
     },
     "execution_count": 40,
     "metadata": {},
     "output_type": "execute_result"
    }
   ],
   "source": [
    "cursor.fetchall()"
   ]
  },
  {
   "cell_type": "code",
   "execution_count": 19,
   "id": "192c2ef5",
   "metadata": {},
   "outputs": [],
   "source": [
    "mydb.commit()"
   ]
  },
  {
   "cell_type": "markdown",
   "id": "07674a57",
   "metadata": {},
   "source": [
    "# Q-1. Write an SQL query to fetch “FIRST_NAME” from Worker table using the alias name as <WORKER_NAME>."
   ]
  },
  {
   "cell_type": "code",
   "execution_count": 31,
   "id": "6dff2801",
   "metadata": {},
   "outputs": [],
   "source": [
    "cursor.execute(\"select First_Name as Worker_Name from assignment.worker_table\")"
   ]
  },
  {
   "cell_type": "code",
   "execution_count": 30,
   "id": "87a3148b",
   "metadata": {},
   "outputs": [
    {
     "data": {
      "text/plain": [
       "[('Sachin',),\n",
       " ('Rahul',),\n",
       " ('Virat',),\n",
       " ('Amitabh',),\n",
       " ('MS',),\n",
       " ('Sachin',),\n",
       " ('Rahul',),\n",
       " ('Virat',),\n",
       " ('Amitabh',),\n",
       " ('MS',)]"
      ]
     },
     "execution_count": 30,
     "metadata": {},
     "output_type": "execute_result"
    }
   ],
   "source": [
    "cursor.fetchall()"
   ]
  },
  {
   "cell_type": "markdown",
   "id": "18733734",
   "metadata": {},
   "source": [
    "# Que -2. Write an SQL query to fetch unique values of DEPARTMENT from Worker table."
   ]
  },
  {
   "cell_type": "code",
   "execution_count": 35,
   "id": "ab3a4c12",
   "metadata": {},
   "outputs": [],
   "source": [
    "cursor.execute(\"select DISTINCT Department from assignment.worker_table\")"
   ]
  },
  {
   "cell_type": "code",
   "execution_count": 36,
   "id": "a118bd23",
   "metadata": {},
   "outputs": [
    {
     "data": {
      "text/plain": [
       "[('HR',), ('Admin',), ('developer',), ('team_lead',)]"
      ]
     },
     "execution_count": 36,
     "metadata": {},
     "output_type": "execute_result"
    }
   ],
   "source": [
    "cursor.fetchall()"
   ]
  },
  {
   "cell_type": "markdown",
   "id": "0500f36f",
   "metadata": {},
   "source": [
    "# Q-3. Write an SQL query to show the last 5 record from a table."
   ]
  },
  {
   "cell_type": "code",
   "execution_count": 42,
   "id": "2b969ada",
   "metadata": {},
   "outputs": [],
   "source": [
    "cursor.execute(\"select * from assignment.worker_table order by worker_id DESC limit 5 \")"
   ]
  },
  {
   "cell_type": "code",
   "execution_count": 43,
   "id": "47f20f18",
   "metadata": {},
   "outputs": [
    {
     "data": {
      "text/plain": [
       "[(5, 'MS', 'Dhoni', 100000, 'team_lead'),\n",
       " (5, 'MS', 'Dhoni', 100000, 'team_lead'),\n",
       " (4, 'Amitabh', 'Bacchan', 150000, 'admin'),\n",
       " (4, 'Amitabh', 'Bacchan', 150000, 'admin'),\n",
       " (3, 'Virat', 'Kohli', 200000, 'developer')]"
      ]
     },
     "execution_count": 43,
     "metadata": {},
     "output_type": "execute_result"
    }
   ],
   "source": [
    "cursor.fetchall()"
   ]
  },
  {
   "cell_type": "code",
   "execution_count": null,
   "id": "a1851796",
   "metadata": {},
   "outputs": [],
   "source": []
  }
 ],
 "metadata": {
  "kernelspec": {
   "display_name": "Python 3 (ipykernel)",
   "language": "python",
   "name": "python3"
  },
  "language_info": {
   "codemirror_mode": {
    "name": "ipython",
    "version": 3
   },
   "file_extension": ".py",
   "mimetype": "text/x-python",
   "name": "python",
   "nbconvert_exporter": "python",
   "pygments_lexer": "ipython3",
   "version": "3.9.7"
  }
 },
 "nbformat": 4,
 "nbformat_minor": 5
}
