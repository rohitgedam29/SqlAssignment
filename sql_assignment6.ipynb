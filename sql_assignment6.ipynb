{
 "cells": [
  {
   "cell_type": "markdown",
   "id": "0f160712",
   "metadata": {},
   "source": [
    "# Q-1. Write an SQL query to print details of the Workers who have joined in Feb’2014."
   ]
  },
  {
   "cell_type": "code",
   "execution_count": null,
   "id": "70390ec2",
   "metadata": {},
   "outputs": [],
   "source": [
    " (SELECT * FROM Worker WHERE YEAR(JOINING_DATE) = 2014 AND MONTH(JOINING_DATE) = 02)\n",
    "    \n",
    "    \n",
    "    or\n",
    "    \n",
    "(SELECT * FROM Worker WHERE JOINING_DATE LIKE \"%2014-02%\")"
   ]
  },
  {
   "cell_type": "markdown",
   "id": "376f3b09",
   "metadata": {},
   "source": [
    "# Q-2. Write an SQL query to fetch duplicate records having matching data in some fields of a table."
   ]
  },
  {
   "cell_type": "code",
   "execution_count": null,
   "id": "fbdf6500",
   "metadata": {},
   "outputs": [],
   "source": [
    "(SELECT column_name, COUNT(column_name) FROM Worker GROUP BY FIELD HAVING COUNT(column_name) > 1)"
   ]
  },
  {
   "cell_type": "markdown",
   "id": "d594bab3",
   "metadata": {},
   "source": [
    "# Q-3. How to remove duplicate rows from Employees table."
   ]
  },
  {
   "cell_type": "code",
   "execution_count": null,
   "id": "99f98066",
   "metadata": {},
   "outputs": [],
   "source": [
    "DELETE e1.* from employee e1 INNER JOIN employee e2 WHERE e1.id > e2.id AND e1.FIRST_NAME = e2.FIRST_NAME AND e1.LAST_NAME = e2.LAST_NAME AND e1.COUNTRY = e2.COUNT"
   ]
  },
  {
   "cell_type": "code",
   "execution_count": null,
   "id": "19f771fb",
   "metadata": {},
   "outputs": [],
   "source": []
  }
 ],
 "metadata": {
  "kernelspec": {
   "display_name": "Python 3 (ipykernel)",
   "language": "python",
   "name": "python3"
  },
  "language_info": {
   "codemirror_mode": {
    "name": "ipython",
    "version": 3
   },
   "file_extension": ".py",
   "mimetype": "text/x-python",
   "name": "python",
   "nbconvert_exporter": "python",
   "pygments_lexer": "ipython3",
   "version": "3.9.7"
  }
 },
 "nbformat": 4,
 "nbformat_minor": 5
}
