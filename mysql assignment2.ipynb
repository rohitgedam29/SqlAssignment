{
 "cells": [
  {
   "cell_type": "code",
   "execution_count": 2,
   "id": "b075f775",
   "metadata": {},
   "outputs": [
    {
     "name": "stdout",
     "output_type": "stream",
     "text": [
      "Requirement already satisfied: mysql-connector-python in c:\\ana\\lib\\site-packages (8.0.29)\n",
      "Requirement already satisfied: protobuf>=3.0.0 in c:\\ana\\lib\\site-packages (from mysql-connector-python) (4.21.2)\n"
     ]
    }
   ],
   "source": [
    "!pip install mysql-connector-python"
   ]
  },
  {
   "cell_type": "code",
   "execution_count": 3,
   "id": "6b65bf95",
   "metadata": {},
   "outputs": [],
   "source": [
    "import mysql.connector as conn"
   ]
  },
  {
   "cell_type": "code",
   "execution_count": 4,
   "id": "c8a19ceb",
   "metadata": {},
   "outputs": [],
   "source": [
    "mydb = conn.connect(host='localhost',user='root',passwd='Joeroot12345')"
   ]
  },
  {
   "cell_type": "code",
   "execution_count": 5,
   "id": "6fbe846d",
   "metadata": {},
   "outputs": [
    {
     "data": {
      "text/plain": [
       "<mysql.connector.connection_cext.CMySQLConnection at 0x2653e2a5940>"
      ]
     },
     "execution_count": 5,
     "metadata": {},
     "output_type": "execute_result"
    }
   ],
   "source": [
    "mydb"
   ]
  },
  {
   "cell_type": "code",
   "execution_count": 6,
   "id": "dc538422",
   "metadata": {},
   "outputs": [],
   "source": [
    "cursor = mydb.cursor()"
   ]
  },
  {
   "cell_type": "code",
   "execution_count": 24,
   "id": "34f36f9c",
   "metadata": {},
   "outputs": [],
   "source": [
    "cursor.execute(\"create database assignment_2\")"
   ]
  },
  {
   "cell_type": "code",
   "execution_count": 25,
   "id": "ed530027",
   "metadata": {},
   "outputs": [],
   "source": [
    "cursor.execute(\"create table assignment_2.worker_table(worker_id INT(10),first_name VARCHAR(20),last_name VARCHAR(20),salary INT(10),Department VARCHAR(20))\")"
   ]
  },
  {
   "cell_type": "code",
   "execution_count": 27,
   "id": "f81f4b09",
   "metadata": {},
   "outputs": [],
   "source": [
    "cursor.execute(\"insert into assignment_2.worker_table values(001,'MS','Dhoni',500000,'HR')\")\n",
    "cursor.execute(\"insert into assignment_2.worker_table values(002,'Virat','Kohli',450000,'HR')\")\n",
    "cursor.execute(\"insert into assignment_2.worker_table values(003,'Rohit','Sharma',400000,'HR')\")\n",
    "cursor.execute(\"insert into assignment_2.worker_table values(004,'KL','Rahul',400000,'Accounts')\")\n",
    "cursor.execute(\"insert into assignment_2.worker_table values(005,'Hardik','Pandya',350000,'Accounts')\")\n",
    "cursor.execute(\"insert into assignment_2.worker_table values(006,'Amitabh','singh',300000,'Development')\")"
   ]
  },
  {
   "cell_type": "code",
   "execution_count": 28,
   "id": "9bb97675",
   "metadata": {},
   "outputs": [],
   "source": [
    "mydb.commit()"
   ]
  },
  {
   "cell_type": "markdown",
   "id": "b0f364ac",
   "metadata": {},
   "source": [
    "# Q-1. Write an SQL query to print the first three characters of  FIRST_NAME from Worker_table."
   ]
  },
  {
   "cell_type": "code",
   "execution_count": 30,
   "id": "dfa469b7",
   "metadata": {},
   "outputs": [],
   "source": [
    "cursor.execute(\"select substring(first_name,1,3) from assignment_2.worker_table\")"
   ]
  },
  {
   "cell_type": "code",
   "execution_count": 31,
   "id": "de715c9e",
   "metadata": {},
   "outputs": [
    {
     "data": {
      "text/plain": [
       "[('MS',), ('Vir',), ('Roh',), ('KL',), ('Har',), ('Ami',)]"
      ]
     },
     "execution_count": 31,
     "metadata": {},
     "output_type": "execute_result"
    }
   ],
   "source": [
    "cursor.fetchall()"
   ]
  },
  {
   "cell_type": "markdown",
   "id": "051ed946",
   "metadata": {},
   "source": [
    "# Q-2. Write an SQL query to find the position of the alphabet (‘a’) in the first name column ‘Amitabh’ from Worker table."
   ]
  },
  {
   "cell_type": "code",
   "execution_count": 7,
   "id": "cbcbf31e",
   "metadata": {},
   "outputs": [],
   "source": [
    "cursor.execute(\"select INSTR(first_name,BINARY'a') from assignment_2.worker_table where first_name='Amitabh'\")\n"
   ]
  },
  {
   "cell_type": "code",
   "execution_count": 8,
   "id": "bc11dab8",
   "metadata": {},
   "outputs": [
    {
     "data": {
      "text/plain": [
       "[(1,)]"
      ]
     },
     "execution_count": 8,
     "metadata": {},
     "output_type": "execute_result"
    }
   ],
   "source": [
    "cursor.fetchall()"
   ]
  },
  {
   "cell_type": "markdown",
   "id": "123c5f12",
   "metadata": {},
   "source": [
    "# Q-3. Write an SQL query to print the name of employees having the highest salary in each department"
   ]
  },
  {
   "cell_type": "code",
   "execution_count": 37,
   "id": "eb94b282",
   "metadata": {},
   "outputs": [
    {
     "data": {
      "text/plain": [
       "[('MS', 'Dhoni', 'HR', 500000),\n",
       " ('KL', 'Rahul', 'Accounts', 400000),\n",
       " ('Amitabh', 'singh', 'Development', 300000)]"
      ]
     },
     "execution_count": 37,
     "metadata": {},
     "output_type": "execute_result"
    }
   ],
   "source": [
    "cursor.execute(\"select first_name,last_name,Department,Max(salary) as MaxSalary from assignment_2.worker_table group by Department\")\n",
    "cursor.fetchall()"
   ]
  },
  {
   "cell_type": "code",
   "execution_count": null,
   "id": "bc68cc5d",
   "metadata": {},
   "outputs": [],
   "source": []
  }
 ],
 "metadata": {
  "kernelspec": {
   "display_name": "Python 3 (ipykernel)",
   "language": "python",
   "name": "python3"
  },
  "language_info": {
   "codemirror_mode": {
    "name": "ipython",
    "version": 3
   },
   "file_extension": ".py",
   "mimetype": "text/x-python",
   "name": "python",
   "nbconvert_exporter": "python",
   "pygments_lexer": "ipython3",
   "version": "3.9.7"
  }
 },
 "nbformat": 4,
 "nbformat_minor": 5
}
