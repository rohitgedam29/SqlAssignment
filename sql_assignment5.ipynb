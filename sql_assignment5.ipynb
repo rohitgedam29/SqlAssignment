{
 "cells": [
  {
   "cell_type": "code",
   "execution_count": 1,
   "id": "9c115eff",
   "metadata": {},
   "outputs": [
    {
     "name": "stdout",
     "output_type": "stream",
     "text": [
      "Requirement already satisfied: mysql-connector-python in c:\\ana\\lib\\site-packages (8.0.29)\n",
      "Requirement already satisfied: protobuf>=3.0.0 in c:\\ana\\lib\\site-packages (from mysql-connector-python) (4.21.2)\n"
     ]
    }
   ],
   "source": [
    "!pip install mysql-connector-python"
   ]
  },
  {
   "cell_type": "code",
   "execution_count": 2,
   "id": "f4b44517",
   "metadata": {},
   "outputs": [],
   "source": [
    "import mysql.connector as conn"
   ]
  },
  {
   "cell_type": "code",
   "execution_count": 3,
   "id": "8b964c43",
   "metadata": {},
   "outputs": [],
   "source": [
    "db = conn.connect(host=\"localhost\",user=\"root\",passwd=\"Joeroot12345\")"
   ]
  },
  {
   "cell_type": "code",
   "execution_count": 4,
   "id": "bd6e014a",
   "metadata": {},
   "outputs": [],
   "source": [
    "cursor= db.cursor()"
   ]
  },
  {
   "cell_type": "code",
   "execution_count": 16,
   "id": "fefa847e",
   "metadata": {},
   "outputs": [
    {
     "data": {
      "text/plain": [
       "[(1, 'MS', 'Dhoni', 500000, 'HR'),\n",
       " (2, 'Virat', 'Kohli', 450000, 'HR'),\n",
       " (3, 'Rohit', 'Sharma', 400000, 'HR'),\n",
       " (4, 'KL', 'Rahul', 400000, 'Accounts'),\n",
       " (5, 'Hardik', 'Pandya', 350000, 'Accounts'),\n",
       " (6, 'Amitabh', 'singh', 300000, 'Development'),\n",
       " (7, 'vipul', 'sharma', 250000, 'testing'),\n",
       " (8, 'satish', 'kapoor', 200000, 'team_lead'),\n",
       " (7, 'vipul', 'sharma', 250000, 'testing'),\n",
       " (8, 'satish', 'kapoor', 200000, 'team_lead')]"
      ]
     },
     "execution_count": 16,
     "metadata": {},
     "output_type": "execute_result"
    }
   ],
   "source": [
    "cursor.execute(\"select * from assignment_2.worker_table\")\n",
    "cursor.fetchall()"
   ]
  },
  {
   "cell_type": "code",
   "execution_count": 9,
   "id": "f0146e0c",
   "metadata": {},
   "outputs": [],
   "source": [
    "cursor.execute(\"insert into assignment_2.worker_table values(007,'vipul','sharma',250000,'testing')\")\n",
    "cursor.execute(\"insert into assignment_2.worker_table values(008,'satish','kapoor',200000,'team_lead')\")\n",
    "db.commit()"
   ]
  },
  {
   "cell_type": "markdown",
   "id": "4c092683",
   "metadata": {},
   "source": [
    "# Q-1. Write an SQL query to print details of workers excluding first names, “Vipul” and “Satish” from Worker table."
   ]
  },
  {
   "cell_type": "code",
   "execution_count": 11,
   "id": "8dc8d208",
   "metadata": {},
   "outputs": [
    {
     "data": {
      "text/plain": [
       "[(1, 'MS', 'Dhoni', 500000, 'HR'),\n",
       " (2, 'Virat', 'Kohli', 450000, 'HR'),\n",
       " (3, 'Rohit', 'Sharma', 400000, 'HR'),\n",
       " (4, 'KL', 'Rahul', 400000, 'Accounts'),\n",
       " (5, 'Hardik', 'Pandya', 350000, 'Accounts'),\n",
       " (6, 'Amitabh', 'singh', 300000, 'Development')]"
      ]
     },
     "execution_count": 11,
     "metadata": {},
     "output_type": "execute_result"
    }
   ],
   "source": [
    "cursor.execute(\"select * from assignment_2.worker_table where first_name not in ('vipul','satish')\")\n",
    "cursor.fetchall()"
   ]
  },
  {
   "cell_type": "markdown",
   "id": "91940d2f",
   "metadata": {},
   "source": [
    "# Q-2. Write an SQL query to print details of the Workers whose FIRST_NAME ends with ‘h’ and contains six alphabets."
   ]
  },
  {
   "cell_type": "code",
   "execution_count": 18,
   "id": "50914923",
   "metadata": {},
   "outputs": [
    {
     "data": {
      "text/plain": [
       "[(8, 'satish', 'kapoor', 200000, 'team_lead'),\n",
       " (8, 'satish', 'kapoor', 200000, 'team_lead')]"
      ]
     },
     "execution_count": 18,
     "metadata": {},
     "output_type": "execute_result"
    }
   ],
   "source": [
    "cursor.execute(\"select * from assignment_2.worker_table where first_name like '_____h' \")\n",
    "cursor.fetchall()"
   ]
  },
  {
   "cell_type": "markdown",
   "id": "aa6af7f3",
   "metadata": {},
   "source": [
    "# Q-3. Write a query to validate Email of Employee."
   ]
  },
  {
   "cell_type": "code",
   "execution_count": null,
   "id": "d3a72c51",
   "metadata": {},
   "outputs": [],
   "source": [
    "('SELECT * FROM Worker WHERE email LIKE \"%@%._%\" ')\n"
   ]
  }
 ],
 "metadata": {
  "kernelspec": {
   "display_name": "Python 3 (ipykernel)",
   "language": "python",
   "name": "python3"
  },
  "language_info": {
   "codemirror_mode": {
    "name": "ipython",
    "version": 3
   },
   "file_extension": ".py",
   "mimetype": "text/x-python",
   "name": "python",
   "nbconvert_exporter": "python",
   "pygments_lexer": "ipython3",
   "version": "3.9.7"
  }
 },
 "nbformat": 4,
 "nbformat_minor": 5
}
